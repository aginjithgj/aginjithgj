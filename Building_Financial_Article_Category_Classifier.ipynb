{
  "nbformat": 4,
  "nbformat_minor": 0,
  "metadata": {
    "colab": {
      "provenance": [],
      "collapsed_sections": [],
      "mount_file_id": "1kVHBR1HuJG9xS6QFcbQlNNCvQXh46IHv",
      "authorship_tag": "ABX9TyO7DUpP4VlnqgQpP1uLogl0",
      "include_colab_link": true
    },
    "kernelspec": {
      "name": "python3",
      "display_name": "Python 3"
    },
    "language_info": {
      "name": "python"
    }
  },
  "cells": [
    {
      "cell_type": "markdown",
      "metadata": {
        "id": "view-in-github",
        "colab_type": "text"
      },
      "source": [
        "<a href=\"https://colab.research.google.com/github/aginjithgj/aginjithgj/blob/main/Building_Financial_Article_Category_Classifier.ipynb\" target=\"_parent\"><img src=\"https://colab.research.google.com/assets/colab-badge.svg\" alt=\"Open In Colab\"/></a>"
      ]
    },
    {
      "cell_type": "markdown",
      "source": [
        "Importing package"
      ],
      "metadata": {
        "id": "YItd6_H7mPaw"
      }
    },
    {
      "cell_type": "code",
      "execution_count": null,
      "metadata": {
        "id": "WJoY0_-PyT0y"
      },
      "outputs": [],
      "source": [
        "from sklearn.feature_extraction.text import TfidfVectorizer\n",
        "from sklearn.ensemble import RandomForestClassifier\n",
        "from sklearn import preprocessing\n",
        "import pandas as pd\n",
        "import json\n",
        "import pickle "
      ]
    },
    {
      "cell_type": "markdown",
      "source": [
        "Loading data"
      ],
      "metadata": {
        "id": "5OMLAFt6Z52l"
      }
    },
    {
      "cell_type": "code",
      "source": [
        "financial_corpus_df = pd.read_csv('/content/training_data.csv')"
      ],
      "metadata": {
        "id": "F1NdqyW51ccB"
      },
      "execution_count": null,
      "outputs": []
    },
    {
      "cell_type": "markdown",
      "source": [
        "financial_corpus_df"
      ],
      "metadata": {
        "id": "HsshsZlE1cL-"
      }
    },
    {
      "cell_type": "code",
      "source": [
        "financial_corpus_df['category'].unique()"
      ],
      "metadata": {
        "colab": {
          "base_uri": "https://localhost:8080/"
        },
        "id": "VXUqqxW63EGa",
        "outputId": "50f9c254-c34c-444d-8443-c6e4ec4059cf"
      },
      "execution_count": null,
      "outputs": [
        {
          "output_type": "execute_result",
          "data": {
            "text/plain": [
              "array(['International_Finance', 'Earning_Reports', 'Commodities',\n",
              "       'Economy', 'Fraud', 'Mergers_Acquisitions', 'Policy', 'Oil',\n",
              "       'Capital', 'Litigation', 'Real_Estate'], dtype=object)"
            ]
          },
          "metadata": {},
          "execution_count": 24
        }
      ]
    },
    {
      "cell_type": "markdown",
      "source": [
        "#Conversion article category into numbers\n",
        "\n",
        "Which helps to make machine learning fast.\n"
      ],
      "metadata": {
        "id": "61nIqXsf6eNn"
      }
    },
    {
      "cell_type": "code",
      "source": [
        "label_encoder = preprocessing.LabelEncoder()\n",
        "label_encoder.fit(financial_corpus_df['category'])\n",
        "financial_corpus_df['lable'] = label_encoder.transform(financial_corpus_df['category'])"
      ],
      "metadata": {
        "id": "CG8ek4De4rUp"
      },
      "execution_count": null,
      "outputs": []
    },
    {
      "cell_type": "code",
      "source": [
        "financial_corpus_df['lable'].unique()"
      ],
      "metadata": {
        "colab": {
          "base_uri": "https://localhost:8080/"
        },
        "id": "NdyP3bYS59WK",
        "outputId": "1e9af3ba-dfca-43d3-da68-19f713cc0456"
      },
      "execution_count": null,
      "outputs": [
        {
          "output_type": "execute_result",
          "data": {
            "text/plain": [
              "array([ 5,  2,  1,  3,  4,  7,  9,  8,  0,  6, 10])"
            ]
          },
          "metadata": {},
          "execution_count": 26
        }
      ]
    },
    {
      "cell_type": "markdown",
      "source": [
        "#Now we have numbers for the labels"
      ],
      "metadata": {
        "id": "vrYF6f8N7Aa9"
      }
    },
    {
      "cell_type": "code",
      "source": [
        "financial_corpus_df"
      ],
      "metadata": {
        "colab": {
          "base_uri": "https://localhost:8080/",
          "height": 641
        },
        "id": "bXgt582e6WqS",
        "outputId": "0ed9cdd9-5d46-493d-8685-2bd297ee1c12"
      },
      "execution_count": null,
      "outputs": [
        {
          "output_type": "execute_result",
          "data": {
            "text/plain": [
              "         id               category  \\\n",
              "0      5639  International_Finance   \n",
              "1      2673        Earning_Reports   \n",
              "2      2056            Commodities   \n",
              "3      3455                Economy   \n",
              "4      4406                  Fraud   \n",
              "...     ...                    ...   \n",
              "8037  10024            Real_Estate   \n",
              "8038    167                Capital   \n",
              "8039   2533        Earning_Reports   \n",
              "8040   5543  International_Finance   \n",
              "8041   2792        Earning_Reports   \n",
              "\n",
              "                                                  title  \\\n",
              "0     How Has Devaluation of the Yuan Impacted Globa...   \n",
              "1     Qorvo® Announces Fiscal 2022 Third Quarter Fin...   \n",
              "2     Why Gatos Silver Stock Fell Another 15.5% at t...   \n",
              "3     Healthcare industry expects Budget 2022 to hik...   \n",
              "4     American FX Fund CEO Sent to Jail for Running ...   \n",
              "...                                                 ...   \n",
              "8037  United Real Estate expands to Alabama with 2nd...   \n",
              "8038  CTDOT Marks Transit Equity Day 2022 with Commi...   \n",
              "8039  Lee Enterprises reports strong digital growth ...   \n",
              "8040  Fuel for Thought: Persian Gulf energy producer...   \n",
              "8041  Tesla's entire year hinges on answering one bi...   \n",
              "\n",
              "                                                   body  lable  \n",
              "0     How Has the Devaluation of the Yuan Impacted G...      5  \n",
              "1     GREENSBORO, N.C., Feb. 02, 2022 (GLOBE NEWSWIR...      2  \n",
              "2     Shares of Gatos Silver (NYSE:GATO) fell 15.5% ...      1  \n",
              "3     Healthcare industry expects Budget 2022 to hik...      3  \n",
              "4     The U.S Federal Bureau of Investigation (FBI) ...      4  \n",
              "...                                                 ...    ...  \n",
              "8037  Dallas-based brokerage and franchisor United R...     10  \n",
              "8038  (Newington, CT) - The Connecticut Department o...      0  \n",
              "8039  Digital-only subscribers grew 57%; exceeds hal...      2  \n",
              "8040  Geopolitics has jumped ahead of market fundame...      5  \n",
              "8041  Tesla reports second-quarter earnings on Wedne...      2  \n",
              "\n",
              "[8042 rows x 5 columns]"
            ],
            "text/html": [
              "\n",
              "  <div id=\"df-baa385b7-ae86-47e5-bad6-a51da495ae41\">\n",
              "    <div class=\"colab-df-container\">\n",
              "      <div>\n",
              "<style scoped>\n",
              "    .dataframe tbody tr th:only-of-type {\n",
              "        vertical-align: middle;\n",
              "    }\n",
              "\n",
              "    .dataframe tbody tr th {\n",
              "        vertical-align: top;\n",
              "    }\n",
              "\n",
              "    .dataframe thead th {\n",
              "        text-align: right;\n",
              "    }\n",
              "</style>\n",
              "<table border=\"1\" class=\"dataframe\">\n",
              "  <thead>\n",
              "    <tr style=\"text-align: right;\">\n",
              "      <th></th>\n",
              "      <th>id</th>\n",
              "      <th>category</th>\n",
              "      <th>title</th>\n",
              "      <th>body</th>\n",
              "      <th>lable</th>\n",
              "    </tr>\n",
              "  </thead>\n",
              "  <tbody>\n",
              "    <tr>\n",
              "      <th>0</th>\n",
              "      <td>5639</td>\n",
              "      <td>International_Finance</td>\n",
              "      <td>How Has Devaluation of the Yuan Impacted Globa...</td>\n",
              "      <td>How Has the Devaluation of the Yuan Impacted G...</td>\n",
              "      <td>5</td>\n",
              "    </tr>\n",
              "    <tr>\n",
              "      <th>1</th>\n",
              "      <td>2673</td>\n",
              "      <td>Earning_Reports</td>\n",
              "      <td>Qorvo® Announces Fiscal 2022 Third Quarter Fin...</td>\n",
              "      <td>GREENSBORO, N.C., Feb. 02, 2022 (GLOBE NEWSWIR...</td>\n",
              "      <td>2</td>\n",
              "    </tr>\n",
              "    <tr>\n",
              "      <th>2</th>\n",
              "      <td>2056</td>\n",
              "      <td>Commodities</td>\n",
              "      <td>Why Gatos Silver Stock Fell Another 15.5% at t...</td>\n",
              "      <td>Shares of Gatos Silver (NYSE:GATO) fell 15.5% ...</td>\n",
              "      <td>1</td>\n",
              "    </tr>\n",
              "    <tr>\n",
              "      <th>3</th>\n",
              "      <td>3455</td>\n",
              "      <td>Economy</td>\n",
              "      <td>Healthcare industry expects Budget 2022 to hik...</td>\n",
              "      <td>Healthcare industry expects Budget 2022 to hik...</td>\n",
              "      <td>3</td>\n",
              "    </tr>\n",
              "    <tr>\n",
              "      <th>4</th>\n",
              "      <td>4406</td>\n",
              "      <td>Fraud</td>\n",
              "      <td>American FX Fund CEO Sent to Jail for Running ...</td>\n",
              "      <td>The U.S Federal Bureau of Investigation (FBI) ...</td>\n",
              "      <td>4</td>\n",
              "    </tr>\n",
              "    <tr>\n",
              "      <th>...</th>\n",
              "      <td>...</td>\n",
              "      <td>...</td>\n",
              "      <td>...</td>\n",
              "      <td>...</td>\n",
              "      <td>...</td>\n",
              "    </tr>\n",
              "    <tr>\n",
              "      <th>8037</th>\n",
              "      <td>10024</td>\n",
              "      <td>Real_Estate</td>\n",
              "      <td>United Real Estate expands to Alabama with 2nd...</td>\n",
              "      <td>Dallas-based brokerage and franchisor United R...</td>\n",
              "      <td>10</td>\n",
              "    </tr>\n",
              "    <tr>\n",
              "      <th>8038</th>\n",
              "      <td>167</td>\n",
              "      <td>Capital</td>\n",
              "      <td>CTDOT Marks Transit Equity Day 2022 with Commi...</td>\n",
              "      <td>(Newington, CT) - The Connecticut Department o...</td>\n",
              "      <td>0</td>\n",
              "    </tr>\n",
              "    <tr>\n",
              "      <th>8039</th>\n",
              "      <td>2533</td>\n",
              "      <td>Earning_Reports</td>\n",
              "      <td>Lee Enterprises reports strong digital growth ...</td>\n",
              "      <td>Digital-only subscribers grew 57%; exceeds hal...</td>\n",
              "      <td>2</td>\n",
              "    </tr>\n",
              "    <tr>\n",
              "      <th>8040</th>\n",
              "      <td>5543</td>\n",
              "      <td>International_Finance</td>\n",
              "      <td>Fuel for Thought: Persian Gulf energy producer...</td>\n",
              "      <td>Geopolitics has jumped ahead of market fundame...</td>\n",
              "      <td>5</td>\n",
              "    </tr>\n",
              "    <tr>\n",
              "      <th>8041</th>\n",
              "      <td>2792</td>\n",
              "      <td>Earning_Reports</td>\n",
              "      <td>Tesla's entire year hinges on answering one bi...</td>\n",
              "      <td>Tesla reports second-quarter earnings on Wedne...</td>\n",
              "      <td>2</td>\n",
              "    </tr>\n",
              "  </tbody>\n",
              "</table>\n",
              "<p>8042 rows × 5 columns</p>\n",
              "</div>\n",
              "      <button class=\"colab-df-convert\" onclick=\"convertToInteractive('df-baa385b7-ae86-47e5-bad6-a51da495ae41')\"\n",
              "              title=\"Convert this dataframe to an interactive table.\"\n",
              "              style=\"display:none;\">\n",
              "        \n",
              "  <svg xmlns=\"http://www.w3.org/2000/svg\" height=\"24px\"viewBox=\"0 0 24 24\"\n",
              "       width=\"24px\">\n",
              "    <path d=\"M0 0h24v24H0V0z\" fill=\"none\"/>\n",
              "    <path d=\"M18.56 5.44l.94 2.06.94-2.06 2.06-.94-2.06-.94-.94-2.06-.94 2.06-2.06.94zm-11 1L8.5 8.5l.94-2.06 2.06-.94-2.06-.94L8.5 2.5l-.94 2.06-2.06.94zm10 10l.94 2.06.94-2.06 2.06-.94-2.06-.94-.94-2.06-.94 2.06-2.06.94z\"/><path d=\"M17.41 7.96l-1.37-1.37c-.4-.4-.92-.59-1.43-.59-.52 0-1.04.2-1.43.59L10.3 9.45l-7.72 7.72c-.78.78-.78 2.05 0 2.83L4 21.41c.39.39.9.59 1.41.59.51 0 1.02-.2 1.41-.59l7.78-7.78 2.81-2.81c.8-.78.8-2.07 0-2.86zM5.41 20L4 18.59l7.72-7.72 1.47 1.35L5.41 20z\"/>\n",
              "  </svg>\n",
              "      </button>\n",
              "      \n",
              "  <style>\n",
              "    .colab-df-container {\n",
              "      display:flex;\n",
              "      flex-wrap:wrap;\n",
              "      gap: 12px;\n",
              "    }\n",
              "\n",
              "    .colab-df-convert {\n",
              "      background-color: #E8F0FE;\n",
              "      border: none;\n",
              "      border-radius: 50%;\n",
              "      cursor: pointer;\n",
              "      display: none;\n",
              "      fill: #1967D2;\n",
              "      height: 32px;\n",
              "      padding: 0 0 0 0;\n",
              "      width: 32px;\n",
              "    }\n",
              "\n",
              "    .colab-df-convert:hover {\n",
              "      background-color: #E2EBFA;\n",
              "      box-shadow: 0px 1px 2px rgba(60, 64, 67, 0.3), 0px 1px 3px 1px rgba(60, 64, 67, 0.15);\n",
              "      fill: #174EA6;\n",
              "    }\n",
              "\n",
              "    [theme=dark] .colab-df-convert {\n",
              "      background-color: #3B4455;\n",
              "      fill: #D2E3FC;\n",
              "    }\n",
              "\n",
              "    [theme=dark] .colab-df-convert:hover {\n",
              "      background-color: #434B5C;\n",
              "      box-shadow: 0px 1px 3px 1px rgba(0, 0, 0, 0.15);\n",
              "      filter: drop-shadow(0px 1px 2px rgba(0, 0, 0, 0.3));\n",
              "      fill: #FFFFFF;\n",
              "    }\n",
              "  </style>\n",
              "\n",
              "      <script>\n",
              "        const buttonEl =\n",
              "          document.querySelector('#df-baa385b7-ae86-47e5-bad6-a51da495ae41 button.colab-df-convert');\n",
              "        buttonEl.style.display =\n",
              "          google.colab.kernel.accessAllowed ? 'block' : 'none';\n",
              "\n",
              "        async function convertToInteractive(key) {\n",
              "          const element = document.querySelector('#df-baa385b7-ae86-47e5-bad6-a51da495ae41');\n",
              "          const dataTable =\n",
              "            await google.colab.kernel.invokeFunction('convertToInteractive',\n",
              "                                                     [key], {});\n",
              "          if (!dataTable) return;\n",
              "\n",
              "          const docLinkHtml = 'Like what you see? Visit the ' +\n",
              "            '<a target=\"_blank\" href=https://colab.research.google.com/notebooks/data_table.ipynb>data table notebook</a>'\n",
              "            + ' to learn more about interactive tables.';\n",
              "          element.innerHTML = '';\n",
              "          dataTable['output_type'] = 'display_data';\n",
              "          await google.colab.output.renderOutput(dataTable, element);\n",
              "          const docLink = document.createElement('div');\n",
              "          docLink.innerHTML = docLinkHtml;\n",
              "          element.appendChild(docLink);\n",
              "        }\n",
              "      </script>\n",
              "    </div>\n",
              "  </div>\n",
              "  "
            ]
          },
          "metadata": {},
          "execution_count": 27
        }
      ]
    },
    {
      "cell_type": "markdown",
      "source": [
        "Sorting off common english word"
      ],
      "metadata": {
        "id": "IOxPRGqho9LL"
      }
    },
    {
      "cell_type": "code",
      "source": [
        "vectorizer = TfidfVectorizer(stop_words='english',max_features=1000)"
      ],
      "metadata": {
        "id": "pGdKuElUIiHF"
      },
      "execution_count": null,
      "outputs": []
    },
    {
      "cell_type": "code",
      "source": [
        "x = financial_corpus_df['body']\n",
        "y = financial_corpus_df['lable']"
      ],
      "metadata": {
        "id": "HLfUHB4hJJvf"
      },
      "execution_count": null,
      "outputs": []
    },
    {
      "cell_type": "code",
      "source": [
        "vectorized_x = vectorizer.fit_transform(x)"
      ],
      "metadata": {
        "id": "yRXcgk96Jn9k"
      },
      "execution_count": null,
      "outputs": []
    },
    {
      "cell_type": "code",
      "source": [
        "rf_clf = RandomForestClassifier()"
      ],
      "metadata": {
        "id": "hL5esHbVJ_jU"
      },
      "execution_count": null,
      "outputs": []
    },
    {
      "cell_type": "code",
      "source": [
        "rf_clf.fit(vectorized_x,y)"
      ],
      "metadata": {
        "colab": {
          "base_uri": "https://localhost:8080/"
        },
        "id": "4AW2MUK3KZIT",
        "outputId": "84b6db5c-e256-4341-98a2-d1251f149486"
      },
      "execution_count": null,
      "outputs": [
        {
          "output_type": "execute_result",
          "data": {
            "text/plain": [
              "RandomForestClassifier()"
            ]
          },
          "metadata": {},
          "execution_count": 32
        }
      ]
    },
    {
      "cell_type": "markdown",
      "source": [
        "# Saving it as pickle file"
      ],
      "metadata": {
        "id": "GfAVSxqHKxLO"
      }
    },
    {
      "cell_type": "code",
      "source": [
        "pickle.dump(rf_clf, open('financial_text_classifier.pkl','wb'))\n",
        "pickle.dump(vectorizer, open('finacial_text_vectorizer.pkl','wb'))\n",
        "pickle.dump(label_encoder,open('finacial_text_encoder.pkl','wb'))"
      ],
      "metadata": {
        "id": "-EyobWm0Ku3F"
      },
      "execution_count": null,
      "outputs": []
    },
    {
      "cell_type": "markdown",
      "source": [
        "# Testing the file "
      ],
      "metadata": {
        "id": "l1pnphMXhcRE"
      }
    },
    {
      "cell_type": "code",
      "source": [
        "model = pickle.load(open('financial_text_classifier.pkl','rb'))\n",
        "tfidf_vectorizer = pickle.load(open('finacial_text_vectorizer.pkl','rb'))\n",
        "lable_encoder = pickle.load(open('finacial_text_encoder.pkl','rb'))"
      ],
      "metadata": {
        "id": "bYehZDUrV09-"
      },
      "execution_count": null,
      "outputs": []
    },
    {
      "cell_type": "markdown",
      "source": [
        "Loading the test file"
      ],
      "metadata": {
        "id": "XTZkMPQijTZ3"
      }
    },
    {
      "cell_type": "code",
      "source": [
        "input_df = pd.read_csv('/content/test_set.csv')\n",
        "input_df"
      ],
      "metadata": {
        "colab": {
          "base_uri": "https://localhost:8080/",
          "height": 424
        },
        "id": "Gnr6Cf6xDpJk",
        "outputId": "2342e35e-baec-4e6c-bbec-ef028baf7bf9"
      },
      "execution_count": null,
      "outputs": [
        {
          "output_type": "execute_result",
          "data": {
            "text/plain": [
              "       id                                               body\n",
              "0      56  University of Kentucky commit Jordan Griffin i...\n",
              "1     194  After so much ado about an interest rate incre...\n",
              "2    1832  Marriott International (NASDAQ:MAR): 13 analys...\n",
              "3     233  Robert Chote, the chairman of the Office for B...\n",
              "4     572  THE total estimated value of Fi­ji's productio...\n",
              "..    ...                                                ...\n",
              "505  2210  NSW Supreme Court provides guidance for admini...\n",
              "506  2035  Former Tesco chief executive Philip Clarke is ...\n",
              "507  1913  CyberArk Software Ltd. (NASDAQ:CYBR): Accordin...\n",
              "508   840  Mirna Therapeutics Inc. has filed its paperwor...\n",
              "509   522  IHS said the move “is designed to further prom...\n",
              "\n",
              "[510 rows x 2 columns]"
            ],
            "text/html": [
              "\n",
              "  <div id=\"df-6c184dd1-fe15-4533-8d45-07293c377ea1\">\n",
              "    <div class=\"colab-df-container\">\n",
              "      <div>\n",
              "<style scoped>\n",
              "    .dataframe tbody tr th:only-of-type {\n",
              "        vertical-align: middle;\n",
              "    }\n",
              "\n",
              "    .dataframe tbody tr th {\n",
              "        vertical-align: top;\n",
              "    }\n",
              "\n",
              "    .dataframe thead th {\n",
              "        text-align: right;\n",
              "    }\n",
              "</style>\n",
              "<table border=\"1\" class=\"dataframe\">\n",
              "  <thead>\n",
              "    <tr style=\"text-align: right;\">\n",
              "      <th></th>\n",
              "      <th>id</th>\n",
              "      <th>body</th>\n",
              "    </tr>\n",
              "  </thead>\n",
              "  <tbody>\n",
              "    <tr>\n",
              "      <th>0</th>\n",
              "      <td>56</td>\n",
              "      <td>University of Kentucky commit Jordan Griffin i...</td>\n",
              "    </tr>\n",
              "    <tr>\n",
              "      <th>1</th>\n",
              "      <td>194</td>\n",
              "      <td>After so much ado about an interest rate incre...</td>\n",
              "    </tr>\n",
              "    <tr>\n",
              "      <th>2</th>\n",
              "      <td>1832</td>\n",
              "      <td>Marriott International (NASDAQ:MAR): 13 analys...</td>\n",
              "    </tr>\n",
              "    <tr>\n",
              "      <th>3</th>\n",
              "      <td>233</td>\n",
              "      <td>Robert Chote, the chairman of the Office for B...</td>\n",
              "    </tr>\n",
              "    <tr>\n",
              "      <th>4</th>\n",
              "      <td>572</td>\n",
              "      <td>THE total estimated value of Fi­ji's productio...</td>\n",
              "    </tr>\n",
              "    <tr>\n",
              "      <th>...</th>\n",
              "      <td>...</td>\n",
              "      <td>...</td>\n",
              "    </tr>\n",
              "    <tr>\n",
              "      <th>505</th>\n",
              "      <td>2210</td>\n",
              "      <td>NSW Supreme Court provides guidance for admini...</td>\n",
              "    </tr>\n",
              "    <tr>\n",
              "      <th>506</th>\n",
              "      <td>2035</td>\n",
              "      <td>Former Tesco chief executive Philip Clarke is ...</td>\n",
              "    </tr>\n",
              "    <tr>\n",
              "      <th>507</th>\n",
              "      <td>1913</td>\n",
              "      <td>CyberArk Software Ltd. (NASDAQ:CYBR): Accordin...</td>\n",
              "    </tr>\n",
              "    <tr>\n",
              "      <th>508</th>\n",
              "      <td>840</td>\n",
              "      <td>Mirna Therapeutics Inc. has filed its paperwor...</td>\n",
              "    </tr>\n",
              "    <tr>\n",
              "      <th>509</th>\n",
              "      <td>522</td>\n",
              "      <td>IHS said the move “is designed to further prom...</td>\n",
              "    </tr>\n",
              "  </tbody>\n",
              "</table>\n",
              "<p>510 rows × 2 columns</p>\n",
              "</div>\n",
              "      <button class=\"colab-df-convert\" onclick=\"convertToInteractive('df-6c184dd1-fe15-4533-8d45-07293c377ea1')\"\n",
              "              title=\"Convert this dataframe to an interactive table.\"\n",
              "              style=\"display:none;\">\n",
              "        \n",
              "  <svg xmlns=\"http://www.w3.org/2000/svg\" height=\"24px\"viewBox=\"0 0 24 24\"\n",
              "       width=\"24px\">\n",
              "    <path d=\"M0 0h24v24H0V0z\" fill=\"none\"/>\n",
              "    <path d=\"M18.56 5.44l.94 2.06.94-2.06 2.06-.94-2.06-.94-.94-2.06-.94 2.06-2.06.94zm-11 1L8.5 8.5l.94-2.06 2.06-.94-2.06-.94L8.5 2.5l-.94 2.06-2.06.94zm10 10l.94 2.06.94-2.06 2.06-.94-2.06-.94-.94-2.06-.94 2.06-2.06.94z\"/><path d=\"M17.41 7.96l-1.37-1.37c-.4-.4-.92-.59-1.43-.59-.52 0-1.04.2-1.43.59L10.3 9.45l-7.72 7.72c-.78.78-.78 2.05 0 2.83L4 21.41c.39.39.9.59 1.41.59.51 0 1.02-.2 1.41-.59l7.78-7.78 2.81-2.81c.8-.78.8-2.07 0-2.86zM5.41 20L4 18.59l7.72-7.72 1.47 1.35L5.41 20z\"/>\n",
              "  </svg>\n",
              "      </button>\n",
              "      \n",
              "  <style>\n",
              "    .colab-df-container {\n",
              "      display:flex;\n",
              "      flex-wrap:wrap;\n",
              "      gap: 12px;\n",
              "    }\n",
              "\n",
              "    .colab-df-convert {\n",
              "      background-color: #E8F0FE;\n",
              "      border: none;\n",
              "      border-radius: 50%;\n",
              "      cursor: pointer;\n",
              "      display: none;\n",
              "      fill: #1967D2;\n",
              "      height: 32px;\n",
              "      padding: 0 0 0 0;\n",
              "      width: 32px;\n",
              "    }\n",
              "\n",
              "    .colab-df-convert:hover {\n",
              "      background-color: #E2EBFA;\n",
              "      box-shadow: 0px 1px 2px rgba(60, 64, 67, 0.3), 0px 1px 3px 1px rgba(60, 64, 67, 0.15);\n",
              "      fill: #174EA6;\n",
              "    }\n",
              "\n",
              "    [theme=dark] .colab-df-convert {\n",
              "      background-color: #3B4455;\n",
              "      fill: #D2E3FC;\n",
              "    }\n",
              "\n",
              "    [theme=dark] .colab-df-convert:hover {\n",
              "      background-color: #434B5C;\n",
              "      box-shadow: 0px 1px 3px 1px rgba(0, 0, 0, 0.15);\n",
              "      filter: drop-shadow(0px 1px 2px rgba(0, 0, 0, 0.3));\n",
              "      fill: #FFFFFF;\n",
              "    }\n",
              "  </style>\n",
              "\n",
              "      <script>\n",
              "        const buttonEl =\n",
              "          document.querySelector('#df-6c184dd1-fe15-4533-8d45-07293c377ea1 button.colab-df-convert');\n",
              "        buttonEl.style.display =\n",
              "          google.colab.kernel.accessAllowed ? 'block' : 'none';\n",
              "\n",
              "        async function convertToInteractive(key) {\n",
              "          const element = document.querySelector('#df-6c184dd1-fe15-4533-8d45-07293c377ea1');\n",
              "          const dataTable =\n",
              "            await google.colab.kernel.invokeFunction('convertToInteractive',\n",
              "                                                     [key], {});\n",
              "          if (!dataTable) return;\n",
              "\n",
              "          const docLinkHtml = 'Like what you see? Visit the ' +\n",
              "            '<a target=\"_blank\" href=https://colab.research.google.com/notebooks/data_table.ipynb>data table notebook</a>'\n",
              "            + ' to learn more about interactive tables.';\n",
              "          element.innerHTML = '';\n",
              "          dataTable['output_type'] = 'display_data';\n",
              "          await google.colab.output.renderOutput(dataTable, element);\n",
              "          const docLink = document.createElement('div');\n",
              "          docLink.innerHTML = docLinkHtml;\n",
              "          element.appendChild(docLink);\n",
              "        }\n",
              "      </script>\n",
              "    </div>\n",
              "  </div>\n",
              "  "
            ]
          },
          "metadata": {},
          "execution_count": 35
        }
      ]
    },
    {
      "cell_type": "code",
      "source": [
        " features = tfidf_vectorizer.transform(input_df['body'])"
      ],
      "metadata": {
        "id": "uP0UEMHpD28W"
      },
      "execution_count": null,
      "outputs": []
    },
    {
      "cell_type": "code",
      "source": [
        "predictions = model.predict(features)\n",
        "predictions"
      ],
      "metadata": {
        "colab": {
          "base_uri": "https://localhost:8080/"
        },
        "id": "-mJABKsKD8Mr",
        "outputId": "88e64d7a-c1b6-4ddd-cdd3-ac769df5e4b0"
      },
      "execution_count": null,
      "outputs": [
        {
          "output_type": "execute_result",
          "data": {
            "text/plain": [
              "array([ 9,  9,  4,  9,  3,  7,  4,  0,  3,  5,  1,  7,  8,  2,  5,  4,  0,\n",
              "        4,  5,  0,  2,  7,  2,  0,  9,  9,  9,  7,  9,  2,  4,  7,  3,  9,\n",
              "        0,  9,  3,  8,  0,  4,  7,  3,  0,  8,  4,  2,  6,  3,  9,  2,  1,\n",
              "        2,  0,  4,  5,  2,  6,  7,  0,  0,  7,  4,  1,  5,  4,  2, 10,  8,\n",
              "        8,  4,  3,  9,  4,  4,  3,  1,  1,  3,  4,  0,  1, 10,  0,  3,  5,\n",
              "        1,  3,  0,  3,  5,  3,  4,  0,  1,  8,  9,  8,  8,  9, 10,  1,  4,\n",
              "        6,  2,  1,  8,  3,  5,  5,  9,  4,  7,  2,  6,  9,  6,  5,  8,  7,\n",
              "        8,  5,  9, 10,  7,  6,  5,  4,  0,  3,  7,  4,  7,  1,  2,  6,  9,\n",
              "        6,  9,  1,  3,  4,  8,  9,  8,  6,  9,  3,  4,  8,  0,  4,  3,  6,\n",
              "        3,  5,  1,  0,  2,  3,  3,  5,  7,  1,  1,  5,  6,  1,  1,  0,  7,\n",
              "        0,  1,  1,  1,  4,  9,  3,  9,  2,  3,  3,  4,  1,  3,  6,  6,  2,\n",
              "        4,  0, 10,  7,  9,  3,  7,  0,  5,  3,  3,  5,  7,  1,  6,  8,  6,\n",
              "        4,  7,  6,  1,  6,  8,  8,  1,  8,  4,  8,  4,  8,  1,  6,  2,  7,\n",
              "        7,  1,  1,  5,  0,  6,  6,  6, 10,  6,  7,  5,  8,  7,  7,  1,  4,\n",
              "        8,  1,  1,  9,  4,  7,  6,  1, 10,  7,  3,  7,  9,  1,  4,  8,  5,\n",
              "        8,  3,  3,  8,  7,  4,  1,  0,  1, 10,  0,  5,  0,  1, 10,  8,  2,\n",
              "        2,  5,  4,  5,  3,  0,  6,  2,  5,  4,  6,  4,  6,  1,  2,  5,  2,\n",
              "        9,  2,  8,  6,  8,  9,  1,  1,  7,  4,  2,  3,  4,  7,  4,  5,  0,\n",
              "        2,  1,  2,  4,  4,  8,  2, 10,  7,  5,  3,  1, 10,  8,  9,  7,  5,\n",
              "        7,  5,  5,  5,  4,  9,  8,  1,  6, 10,  6,  2,  2,  9,  9,  5,  8,\n",
              "        3,  6,  7,  2,  2,  2,  4,  0,  1,  9,  6,  3,  8, 10,  2,  8,  6,\n",
              "        5,  3,  8,  0,  2,  4,  4,  5,  9,  4,  6,  3,  3,  8,  5,  0,  4,\n",
              "        6,  2,  4,  8,  5,  5,  9, 10,  5,  7,  8,  4,  8,  7,  7,  4,  2,\n",
              "        7,  2,  1,  9,  9,  6,  1,  3,  1,  1,  3,  5,  1,  6,  0,  9,  3,\n",
              "        7,  9,  0,  1,  7,  4,  3,  9,  8,  2,  5,  2,  5,  3,  3,  4,  8,\n",
              "        2,  6,  9,  3,  7,  1,  5,  4,  6,  5,  3,  6,  5,  2, 10,  9,  5,\n",
              "        0,  5,  9,  4,  4,  4,  1,  6,  0,  6,  4,  9,  7,  4,  1,  7,  0,\n",
              "        5,  8,  2,  3,  5,  5,  9,  5,  7,  2,  8,  9,  2,  8,  3,  5,  9,\n",
              "        9,  4,  8,  8,  9,  4,  3,  0,  6,  9,  0,  7,  5,  2, 10,  1,  5,\n",
              "        2,  6,  1,  4,  1,  7,  1,  0,  2,  7,  5,  6,  6,  4,  4,  0,  5])"
            ]
          },
          "metadata": {},
          "execution_count": 37
        }
      ]
    },
    {
      "cell_type": "markdown",
      "source": [
        "Transfer to label"
      ],
      "metadata": {
        "id": "eNq0zITdj1bl"
      }
    },
    {
      "cell_type": "code",
      "source": [
        "input_df['category'] = label_encoder.inverse_transform(predictions)\n",
        "input_df"
      ],
      "metadata": {
        "colab": {
          "base_uri": "https://localhost:8080/",
          "height": 424
        },
        "id": "xTtf_U9MOzsU",
        "outputId": "dfbcecc6-5224-4840-9efa-12000549d02e"
      },
      "execution_count": null,
      "outputs": [
        {
          "output_type": "execute_result",
          "data": {
            "text/plain": [
              "       id                                               body  \\\n",
              "0      56  University of Kentucky commit Jordan Griffin i...   \n",
              "1     194  After so much ado about an interest rate incre...   \n",
              "2    1832  Marriott International (NASDAQ:MAR): 13 analys...   \n",
              "3     233  Robert Chote, the chairman of the Office for B...   \n",
              "4     572  THE total estimated value of Fi­ji's productio...   \n",
              "..    ...                                                ...   \n",
              "505  2210  NSW Supreme Court provides guidance for admini...   \n",
              "506  2035  Former Tesco chief executive Philip Clarke is ...   \n",
              "507  1913  CyberArk Software Ltd. (NASDAQ:CYBR): Accordin...   \n",
              "508   840  Mirna Therapeutics Inc. has filed its paperwor...   \n",
              "509   522  IHS said the move “is designed to further prom...   \n",
              "\n",
              "                  category  \n",
              "0                   Policy  \n",
              "1                   Policy  \n",
              "2                    Fraud  \n",
              "3                   Policy  \n",
              "4                  Economy  \n",
              "..                     ...  \n",
              "505             Litigation  \n",
              "506                  Fraud  \n",
              "507                  Fraud  \n",
              "508                Capital  \n",
              "509  International_Finance  \n",
              "\n",
              "[510 rows x 3 columns]"
            ],
            "text/html": [
              "\n",
              "  <div id=\"df-00b8fea6-f4f6-439b-b439-aacc94916e1b\">\n",
              "    <div class=\"colab-df-container\">\n",
              "      <div>\n",
              "<style scoped>\n",
              "    .dataframe tbody tr th:only-of-type {\n",
              "        vertical-align: middle;\n",
              "    }\n",
              "\n",
              "    .dataframe tbody tr th {\n",
              "        vertical-align: top;\n",
              "    }\n",
              "\n",
              "    .dataframe thead th {\n",
              "        text-align: right;\n",
              "    }\n",
              "</style>\n",
              "<table border=\"1\" class=\"dataframe\">\n",
              "  <thead>\n",
              "    <tr style=\"text-align: right;\">\n",
              "      <th></th>\n",
              "      <th>id</th>\n",
              "      <th>body</th>\n",
              "      <th>category</th>\n",
              "    </tr>\n",
              "  </thead>\n",
              "  <tbody>\n",
              "    <tr>\n",
              "      <th>0</th>\n",
              "      <td>56</td>\n",
              "      <td>University of Kentucky commit Jordan Griffin i...</td>\n",
              "      <td>Policy</td>\n",
              "    </tr>\n",
              "    <tr>\n",
              "      <th>1</th>\n",
              "      <td>194</td>\n",
              "      <td>After so much ado about an interest rate incre...</td>\n",
              "      <td>Policy</td>\n",
              "    </tr>\n",
              "    <tr>\n",
              "      <th>2</th>\n",
              "      <td>1832</td>\n",
              "      <td>Marriott International (NASDAQ:MAR): 13 analys...</td>\n",
              "      <td>Fraud</td>\n",
              "    </tr>\n",
              "    <tr>\n",
              "      <th>3</th>\n",
              "      <td>233</td>\n",
              "      <td>Robert Chote, the chairman of the Office for B...</td>\n",
              "      <td>Policy</td>\n",
              "    </tr>\n",
              "    <tr>\n",
              "      <th>4</th>\n",
              "      <td>572</td>\n",
              "      <td>THE total estimated value of Fi­ji's productio...</td>\n",
              "      <td>Economy</td>\n",
              "    </tr>\n",
              "    <tr>\n",
              "      <th>...</th>\n",
              "      <td>...</td>\n",
              "      <td>...</td>\n",
              "      <td>...</td>\n",
              "    </tr>\n",
              "    <tr>\n",
              "      <th>505</th>\n",
              "      <td>2210</td>\n",
              "      <td>NSW Supreme Court provides guidance for admini...</td>\n",
              "      <td>Litigation</td>\n",
              "    </tr>\n",
              "    <tr>\n",
              "      <th>506</th>\n",
              "      <td>2035</td>\n",
              "      <td>Former Tesco chief executive Philip Clarke is ...</td>\n",
              "      <td>Fraud</td>\n",
              "    </tr>\n",
              "    <tr>\n",
              "      <th>507</th>\n",
              "      <td>1913</td>\n",
              "      <td>CyberArk Software Ltd. (NASDAQ:CYBR): Accordin...</td>\n",
              "      <td>Fraud</td>\n",
              "    </tr>\n",
              "    <tr>\n",
              "      <th>508</th>\n",
              "      <td>840</td>\n",
              "      <td>Mirna Therapeutics Inc. has filed its paperwor...</td>\n",
              "      <td>Capital</td>\n",
              "    </tr>\n",
              "    <tr>\n",
              "      <th>509</th>\n",
              "      <td>522</td>\n",
              "      <td>IHS said the move “is designed to further prom...</td>\n",
              "      <td>International_Finance</td>\n",
              "    </tr>\n",
              "  </tbody>\n",
              "</table>\n",
              "<p>510 rows × 3 columns</p>\n",
              "</div>\n",
              "      <button class=\"colab-df-convert\" onclick=\"convertToInteractive('df-00b8fea6-f4f6-439b-b439-aacc94916e1b')\"\n",
              "              title=\"Convert this dataframe to an interactive table.\"\n",
              "              style=\"display:none;\">\n",
              "        \n",
              "  <svg xmlns=\"http://www.w3.org/2000/svg\" height=\"24px\"viewBox=\"0 0 24 24\"\n",
              "       width=\"24px\">\n",
              "    <path d=\"M0 0h24v24H0V0z\" fill=\"none\"/>\n",
              "    <path d=\"M18.56 5.44l.94 2.06.94-2.06 2.06-.94-2.06-.94-.94-2.06-.94 2.06-2.06.94zm-11 1L8.5 8.5l.94-2.06 2.06-.94-2.06-.94L8.5 2.5l-.94 2.06-2.06.94zm10 10l.94 2.06.94-2.06 2.06-.94-2.06-.94-.94-2.06-.94 2.06-2.06.94z\"/><path d=\"M17.41 7.96l-1.37-1.37c-.4-.4-.92-.59-1.43-.59-.52 0-1.04.2-1.43.59L10.3 9.45l-7.72 7.72c-.78.78-.78 2.05 0 2.83L4 21.41c.39.39.9.59 1.41.59.51 0 1.02-.2 1.41-.59l7.78-7.78 2.81-2.81c.8-.78.8-2.07 0-2.86zM5.41 20L4 18.59l7.72-7.72 1.47 1.35L5.41 20z\"/>\n",
              "  </svg>\n",
              "      </button>\n",
              "      \n",
              "  <style>\n",
              "    .colab-df-container {\n",
              "      display:flex;\n",
              "      flex-wrap:wrap;\n",
              "      gap: 12px;\n",
              "    }\n",
              "\n",
              "    .colab-df-convert {\n",
              "      background-color: #E8F0FE;\n",
              "      border: none;\n",
              "      border-radius: 50%;\n",
              "      cursor: pointer;\n",
              "      display: none;\n",
              "      fill: #1967D2;\n",
              "      height: 32px;\n",
              "      padding: 0 0 0 0;\n",
              "      width: 32px;\n",
              "    }\n",
              "\n",
              "    .colab-df-convert:hover {\n",
              "      background-color: #E2EBFA;\n",
              "      box-shadow: 0px 1px 2px rgba(60, 64, 67, 0.3), 0px 1px 3px 1px rgba(60, 64, 67, 0.15);\n",
              "      fill: #174EA6;\n",
              "    }\n",
              "\n",
              "    [theme=dark] .colab-df-convert {\n",
              "      background-color: #3B4455;\n",
              "      fill: #D2E3FC;\n",
              "    }\n",
              "\n",
              "    [theme=dark] .colab-df-convert:hover {\n",
              "      background-color: #434B5C;\n",
              "      box-shadow: 0px 1px 3px 1px rgba(0, 0, 0, 0.15);\n",
              "      filter: drop-shadow(0px 1px 2px rgba(0, 0, 0, 0.3));\n",
              "      fill: #FFFFFF;\n",
              "    }\n",
              "  </style>\n",
              "\n",
              "      <script>\n",
              "        const buttonEl =\n",
              "          document.querySelector('#df-00b8fea6-f4f6-439b-b439-aacc94916e1b button.colab-df-convert');\n",
              "        buttonEl.style.display =\n",
              "          google.colab.kernel.accessAllowed ? 'block' : 'none';\n",
              "\n",
              "        async function convertToInteractive(key) {\n",
              "          const element = document.querySelector('#df-00b8fea6-f4f6-439b-b439-aacc94916e1b');\n",
              "          const dataTable =\n",
              "            await google.colab.kernel.invokeFunction('convertToInteractive',\n",
              "                                                     [key], {});\n",
              "          if (!dataTable) return;\n",
              "\n",
              "          const docLinkHtml = 'Like what you see? Visit the ' +\n",
              "            '<a target=\"_blank\" href=https://colab.research.google.com/notebooks/data_table.ipynb>data table notebook</a>'\n",
              "            + ' to learn more about interactive tables.';\n",
              "          element.innerHTML = '';\n",
              "          dataTable['output_type'] = 'display_data';\n",
              "          await google.colab.output.renderOutput(dataTable, element);\n",
              "          const docLink = document.createElement('div');\n",
              "          docLink.innerHTML = docLinkHtml;\n",
              "          element.appendChild(docLink);\n",
              "        }\n",
              "      </script>\n",
              "    </div>\n",
              "  </div>\n",
              "  "
            ]
          },
          "metadata": {},
          "execution_count": 38
        }
      ]
    },
    {
      "cell_type": "markdown",
      "source": [
        "Segregating the category only"
      ],
      "metadata": {
        "id": "e4tPKrmLqQgX"
      }
    },
    {
      "cell_type": "code",
      "source": [
        "output_df = input_df[['id','category']]\n",
        "output_df"
      ],
      "metadata": {
        "colab": {
          "base_uri": "https://localhost:8080/",
          "height": 424
        },
        "id": "UHiYUbIIRbUo",
        "outputId": "ab52e448-7eae-4a7e-a787-639ee2275006"
      },
      "execution_count": null,
      "outputs": [
        {
          "output_type": "execute_result",
          "data": {
            "text/plain": [
              "       id               category\n",
              "0      56                 Policy\n",
              "1     194                 Policy\n",
              "2    1832                  Fraud\n",
              "3     233                 Policy\n",
              "4     572                Economy\n",
              "..    ...                    ...\n",
              "505  2210             Litigation\n",
              "506  2035                  Fraud\n",
              "507  1913                  Fraud\n",
              "508   840                Capital\n",
              "509   522  International_Finance\n",
              "\n",
              "[510 rows x 2 columns]"
            ],
            "text/html": [
              "\n",
              "  <div id=\"df-5d395e13-48c8-48d1-9a72-e26942608cd2\">\n",
              "    <div class=\"colab-df-container\">\n",
              "      <div>\n",
              "<style scoped>\n",
              "    .dataframe tbody tr th:only-of-type {\n",
              "        vertical-align: middle;\n",
              "    }\n",
              "\n",
              "    .dataframe tbody tr th {\n",
              "        vertical-align: top;\n",
              "    }\n",
              "\n",
              "    .dataframe thead th {\n",
              "        text-align: right;\n",
              "    }\n",
              "</style>\n",
              "<table border=\"1\" class=\"dataframe\">\n",
              "  <thead>\n",
              "    <tr style=\"text-align: right;\">\n",
              "      <th></th>\n",
              "      <th>id</th>\n",
              "      <th>category</th>\n",
              "    </tr>\n",
              "  </thead>\n",
              "  <tbody>\n",
              "    <tr>\n",
              "      <th>0</th>\n",
              "      <td>56</td>\n",
              "      <td>Policy</td>\n",
              "    </tr>\n",
              "    <tr>\n",
              "      <th>1</th>\n",
              "      <td>194</td>\n",
              "      <td>Policy</td>\n",
              "    </tr>\n",
              "    <tr>\n",
              "      <th>2</th>\n",
              "      <td>1832</td>\n",
              "      <td>Fraud</td>\n",
              "    </tr>\n",
              "    <tr>\n",
              "      <th>3</th>\n",
              "      <td>233</td>\n",
              "      <td>Policy</td>\n",
              "    </tr>\n",
              "    <tr>\n",
              "      <th>4</th>\n",
              "      <td>572</td>\n",
              "      <td>Economy</td>\n",
              "    </tr>\n",
              "    <tr>\n",
              "      <th>...</th>\n",
              "      <td>...</td>\n",
              "      <td>...</td>\n",
              "    </tr>\n",
              "    <tr>\n",
              "      <th>505</th>\n",
              "      <td>2210</td>\n",
              "      <td>Litigation</td>\n",
              "    </tr>\n",
              "    <tr>\n",
              "      <th>506</th>\n",
              "      <td>2035</td>\n",
              "      <td>Fraud</td>\n",
              "    </tr>\n",
              "    <tr>\n",
              "      <th>507</th>\n",
              "      <td>1913</td>\n",
              "      <td>Fraud</td>\n",
              "    </tr>\n",
              "    <tr>\n",
              "      <th>508</th>\n",
              "      <td>840</td>\n",
              "      <td>Capital</td>\n",
              "    </tr>\n",
              "    <tr>\n",
              "      <th>509</th>\n",
              "      <td>522</td>\n",
              "      <td>International_Finance</td>\n",
              "    </tr>\n",
              "  </tbody>\n",
              "</table>\n",
              "<p>510 rows × 2 columns</p>\n",
              "</div>\n",
              "      <button class=\"colab-df-convert\" onclick=\"convertToInteractive('df-5d395e13-48c8-48d1-9a72-e26942608cd2')\"\n",
              "              title=\"Convert this dataframe to an interactive table.\"\n",
              "              style=\"display:none;\">\n",
              "        \n",
              "  <svg xmlns=\"http://www.w3.org/2000/svg\" height=\"24px\"viewBox=\"0 0 24 24\"\n",
              "       width=\"24px\">\n",
              "    <path d=\"M0 0h24v24H0V0z\" fill=\"none\"/>\n",
              "    <path d=\"M18.56 5.44l.94 2.06.94-2.06 2.06-.94-2.06-.94-.94-2.06-.94 2.06-2.06.94zm-11 1L8.5 8.5l.94-2.06 2.06-.94-2.06-.94L8.5 2.5l-.94 2.06-2.06.94zm10 10l.94 2.06.94-2.06 2.06-.94-2.06-.94-.94-2.06-.94 2.06-2.06.94z\"/><path d=\"M17.41 7.96l-1.37-1.37c-.4-.4-.92-.59-1.43-.59-.52 0-1.04.2-1.43.59L10.3 9.45l-7.72 7.72c-.78.78-.78 2.05 0 2.83L4 21.41c.39.39.9.59 1.41.59.51 0 1.02-.2 1.41-.59l7.78-7.78 2.81-2.81c.8-.78.8-2.07 0-2.86zM5.41 20L4 18.59l7.72-7.72 1.47 1.35L5.41 20z\"/>\n",
              "  </svg>\n",
              "      </button>\n",
              "      \n",
              "  <style>\n",
              "    .colab-df-container {\n",
              "      display:flex;\n",
              "      flex-wrap:wrap;\n",
              "      gap: 12px;\n",
              "    }\n",
              "\n",
              "    .colab-df-convert {\n",
              "      background-color: #E8F0FE;\n",
              "      border: none;\n",
              "      border-radius: 50%;\n",
              "      cursor: pointer;\n",
              "      display: none;\n",
              "      fill: #1967D2;\n",
              "      height: 32px;\n",
              "      padding: 0 0 0 0;\n",
              "      width: 32px;\n",
              "    }\n",
              "\n",
              "    .colab-df-convert:hover {\n",
              "      background-color: #E2EBFA;\n",
              "      box-shadow: 0px 1px 2px rgba(60, 64, 67, 0.3), 0px 1px 3px 1px rgba(60, 64, 67, 0.15);\n",
              "      fill: #174EA6;\n",
              "    }\n",
              "\n",
              "    [theme=dark] .colab-df-convert {\n",
              "      background-color: #3B4455;\n",
              "      fill: #D2E3FC;\n",
              "    }\n",
              "\n",
              "    [theme=dark] .colab-df-convert:hover {\n",
              "      background-color: #434B5C;\n",
              "      box-shadow: 0px 1px 3px 1px rgba(0, 0, 0, 0.15);\n",
              "      filter: drop-shadow(0px 1px 2px rgba(0, 0, 0, 0.3));\n",
              "      fill: #FFFFFF;\n",
              "    }\n",
              "  </style>\n",
              "\n",
              "      <script>\n",
              "        const buttonEl =\n",
              "          document.querySelector('#df-5d395e13-48c8-48d1-9a72-e26942608cd2 button.colab-df-convert');\n",
              "        buttonEl.style.display =\n",
              "          google.colab.kernel.accessAllowed ? 'block' : 'none';\n",
              "\n",
              "        async function convertToInteractive(key) {\n",
              "          const element = document.querySelector('#df-5d395e13-48c8-48d1-9a72-e26942608cd2');\n",
              "          const dataTable =\n",
              "            await google.colab.kernel.invokeFunction('convertToInteractive',\n",
              "                                                     [key], {});\n",
              "          if (!dataTable) return;\n",
              "\n",
              "          const docLinkHtml = 'Like what you see? Visit the ' +\n",
              "            '<a target=\"_blank\" href=https://colab.research.google.com/notebooks/data_table.ipynb>data table notebook</a>'\n",
              "            + ' to learn more about interactive tables.';\n",
              "          element.innerHTML = '';\n",
              "          dataTable['output_type'] = 'display_data';\n",
              "          await google.colab.output.renderOutput(dataTable, element);\n",
              "          const docLink = document.createElement('div');\n",
              "          docLink.innerHTML = docLinkHtml;\n",
              "          element.appendChild(docLink);\n",
              "        }\n",
              "      </script>\n",
              "    </div>\n",
              "  </div>\n",
              "  "
            ]
          },
          "metadata": {},
          "execution_count": 39
        }
      ]
    }
  ]
}